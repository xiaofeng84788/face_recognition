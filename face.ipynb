{
 "cells": [
  {
   "attachments": {},
   "cell_type": "markdown",
   "metadata": {},
   "source": [
    "# 库与文件的导入"
   ]
  },
  {
   "cell_type": "code",
   "execution_count": 54,
   "metadata": {},
   "outputs": [],
   "source": [
    "import scipy.io\n",
    "import numpy as np\n",
    "import pandas as pd\n",
    "import matplotlib.pyplot as plt\n",
    "import re\n",
    "\n",
    "# Load the ev.mat file\n",
    "data = scipy.io.loadmat('eigenfaces/ev.mat')\n",
    "eigenfaces = data['eigenfaces'] #99行，128*128列\n",
    "mean_face = data['mean_face']   #1行，128*128列\n",
    "\n",
    "# Load the faceR , faceS file\n",
    "faceR = np.loadtxt('eigenfaces/faceR',dtype=np.float32)     #矩阵形式，2000张图片，每张1个序号，99个线性无关点\n",
    "faceS = np.loadtxt('eigenfaces/faceS',dtype=np.float32)\n",
    "\n",
    "# Load the faceDR , faceDS file\n",
    "with open('eigenfaces/faceDR', 'r') as file:\n",
    "    face_DR = file.read()\n",
    "with open('eigenfaces/faceDS', 'r') as file:\n",
    "    face_DS = file.read()"
   ]
  },
  {
   "attachments": {},
   "cell_type": "markdown",
   "metadata": {},
   "source": [
    "# train集数据处理"
   ]
  },
  {
   "cell_type": "code",
   "execution_count": 55,
   "metadata": {},
   "outputs": [],
   "source": [
    "# face_DR = face_DR.splitlines()                             # 多行文本型数据\n",
    "# print(face_DR)\n",
    "\n",
    "face_DR_num = re.findall('\\d+(?=\\s\\(_sex)', face_DR)            # 可用的图片标号\n",
    "face_DR_wrong = re.findall('\\d+(?=\\s\\(_miss)', face_DR)         # 缺失标签值的图片标号\n",
    "for index, num in enumerate(face_DR_num):                       # enumerate遍历列表，返回索引和文本数据\n",
    "    face_DR_num[index]=int(face_DR_num[index])                  # 将序号的文本型转为整数型\n",
    "for index, wrong in enumerate(face_DR_wrong):\n",
    "    face_DR_wrong[index]=int(wrong)\n",
    "\n",
    "face_DR_sex = re.findall(\"(?<=sex\\s\\s)\\w+\", face_DR)    # 有效性别标签\n",
    "face_DR_age = re.findall(\"(?<=age\\s\\s)\\w+\", face_DR)    # 有效年龄标签\n",
    "face_DR_race = re.findall(\"(?<=race\\s)\\w+\", face_DR)    # 有效种族标签\n",
    "face_DR_emo = re.findall(\"(?<=face\\s)\\w+\", face_DR)    # 有效情感标签\n",
    "# face_DR_prop = re.findall(\"(?<=\\'\\()(\\w+|\\)|\\w+\\s\\w+)\", face_DR)    #有效特殊特征标签\n",
    "# face_DR_prop = re.findall(\"(?<=\\'\\()(\\w+|\\))\", face_DR)\n",
    "# for index, prop in enumerate(face_DR_prop):\n",
    "#     if prop == ')':\n",
    "#         face_DR_prop[index] = '' \n",
    "\n",
    "\n",
    "# print(\"原始数据标签个数 =\", len(face_DR_num)+len(face_DR_wrong))\n",
    "\n",
    "face_DR_data = {'sex':face_DR_sex, 'age':face_DR_age, 'race':face_DR_race, 'emo':face_DR_emo}         # 字典构建的好处是key可以作为分类\n",
    "face_DR_dataframe = pd.DataFrame(data = face_DR_data, index = face_DR_num)          # 数据和索引分开，构建DataFrame结构\n",
    "\n",
    "# 经测试发现，2412号、2416图片格式有问题，无法读取\n",
    "face_DR_dataframe.drop([2412,2416], axis=0, inplace=True)\n",
    "face_DR_wrong.extend([2412,2416])\n",
    "face_DR_num.remove(2412)\n",
    "face_DR_num.remove(2416)"
   ]
  },
  {
   "attachments": {},
   "cell_type": "markdown",
   "metadata": {},
   "source": [
    "### 训练集数据统计"
   ]
  },
  {
   "cell_type": "code",
   "execution_count": 56,
   "metadata": {},
   "outputs": [
    {
     "name": "stdout",
     "output_type": "stream",
     "text": [
      "训练集标签如下： \n",
      "        sex    age   race      emo\n",
      "1223  male  child  white  smiling\n",
      "1224  male  child  white  serious\n",
      "1225  male  child  white  smiling\n",
      "1226  male  child  white  smiling\n",
      "1227  male  child  white  serious \n",
      "\n",
      "有效标签face_DR_num数量为： 1995\n",
      "噪声标签face_DR_wrong数量为： 5\n",
      "噪声样本序号： [1228, 1232, 1808, 2412, 2416] \n",
      "\n"
     ]
    }
   ],
   "source": [
    "print('训练集标签如下：','\\n',face_DR_dataframe[0:5],'\\n')\n",
    "# print('训练集标签统计如下：','\\n',face_DR_dataframe.describe(),'\\n')\n",
    "\n",
    "print(\"有效标签face_DR_num数量为：\", len(face_DR_num))\n",
    "print(\"噪声标签face_DR_wrong数量为：\", len(face_DR_wrong))\n",
    "print(\"噪声样本序号：\", face_DR_wrong,'\\n')\n",
    "\n",
    "# DR_sex_count = face_DR_dataframe['sex'].value_counts()\n",
    "# print(DR_sex_count,'\\n')\n",
    "# DR_age_count = face_DR_dataframe['age'].value_counts()\n",
    "# print(DR_age_count,'\\n')\n",
    "# DR_race_count = face_DR_dataframe['race'].value_counts()\n",
    "# print(DR_race_count,'\\n')\n",
    "# DR_emo_count = face_DR_dataframe['emo'].value_counts()\n",
    "# print(DR_emo_count,'\\n')"
   ]
  },
  {
   "attachments": {},
   "cell_type": "markdown",
   "metadata": {},
   "source": [
    "### train数据数据转换为可使用的矩阵"
   ]
  },
  {
   "cell_type": "code",
   "execution_count": 57,
   "metadata": {},
   "outputs": [],
   "source": [
    "faceR_dataframe = pd.DataFrame(data = faceR[:,1:], index = list(map(int,list(faceR[:,0]))))\n",
    "faceR_dataframe.drop(face_DR_wrong, axis=0, inplace=True)\n",
    "# print(faceR_dataframe[0:5])\n",
    "face_R = np.array(faceR_dataframe)"
   ]
  },
  {
   "attachments": {},
   "cell_type": "markdown",
   "metadata": {},
   "source": [
    "### 标签数值化处理"
   ]
  },
  {
   "cell_type": "code",
   "execution_count": 58,
   "metadata": {},
   "outputs": [],
   "source": [
    "### 性别数据与数值化处理\n",
    "DR_sex = face_DR_dataframe['sex']\n",
    "DR_sex_map = DR_sex.map({'male':1, 'female':0})\n",
    "# np.save('DR_sex.npy',DR_sex)\n",
    "# np.save('DR_sex_map.npy', DR_sex_map)\n",
    "\n",
    "### 年龄数据及其数值化处理\n",
    "DR_age = face_DR_dataframe['age']\n",
    "DR_age_map = face_DR_dataframe['age'].map({'child':0, 'teen':1, 'adult':2, 'senior':3})\n",
    "# np.save('DR_age.npy',DR_age)\n",
    "# np.save('DR_age_map.npy', DR_age_map)\n",
    "\n",
    "### 表情数据及其数值化处理\n",
    "# DR_face = face_DR_dataframe['face']\n",
    "# face_DR_face_map = pd.Series(face_DR_dataframe['face'], index = face_DR_num)\n",
    "# DR_face_map = face_DR_face_map.map({'smiling':0, 'serious':1, 'funny':2})\n",
    "# np.save('DR_face.npy',DR_face)\n",
    "# np.save('DR_face_map.npy', DR_face_map)"
   ]
  },
  {
   "attachments": {},
   "cell_type": "markdown",
   "metadata": {},
   "source": [
    "# test集数据处理"
   ]
  },
  {
   "cell_type": "code",
   "execution_count": 59,
   "metadata": {},
   "outputs": [],
   "source": [
    "face_DS_num = re.findall(\"\\d+(?=\\s\\(_sex)\", face_DS)    #可用图片标号\n",
    "face_DS_wrong = re.findall(\"\\d+(?=\\s\\(_miss)\", face_DS)    #缺失标签值的图片标号\n",
    "for index, num in enumerate(face_DS_num):\n",
    "    face_DS_num[index]=int(face_DS_num[index])\n",
    "for index, wrong in enumerate(face_DS_wrong):\n",
    "    face_DS_wrong[index]=int(wrong)\n",
    "\n",
    "face_DS_sex = re.findall(\"(?<=sex\\s\\s)\\w+\", face_DS)    #有效性别标签\n",
    "face_DS_age = re.findall(\"(?<=age\\s\\s)\\w+\", face_DS)    #有效年龄标签\n",
    "face_DS_race = re.findall(\"(?<=race\\s)\\w+\", face_DS)    #有效种族标签\n",
    "face_DS_emo = re.findall(\"(?<=face\\s)\\w+\", face_DS)     #有效情感标签\n",
    "    \n",
    "# print(\"原始数据标签个数 =\", len(face_DS_num)+len(face_DS_wrong))\n",
    "    \n",
    "face_DS_data = {'sex':face_DS_sex, 'age':face_DS_age, 'race':face_DS_race, 'emo':face_DS_emo}\n",
    "face_DS_dataframe = pd.DataFrame(data = face_DS_data, index = face_DS_num)\n"
   ]
  },
  {
   "attachments": {},
   "cell_type": "markdown",
   "metadata": {},
   "source": [
    "### 测试集标签统计"
   ]
  },
  {
   "cell_type": "code",
   "execution_count": 60,
   "metadata": {},
   "outputs": [
    {
     "name": "stdout",
     "output_type": "stream",
     "text": [
      "测试集标签如下： \n",
      "          sex     age   race      emo\n",
      "3223  female  senior  black  smiling\n",
      "3224  female   adult  black  smiling\n",
      "3225    male  senior  white  smiling\n",
      "3226    male  senior  white  serious\n",
      "3227    male  senior  white  serious \n",
      "\n",
      "有效标签face_DR_num数量为： 1996\n",
      "噪声标签face_DR_wrong数量为： 4\n",
      "噪声样本序号： [4056, 4135, 4136, 5004] \n",
      "\n"
     ]
    }
   ],
   "source": [
    "print('测试集标签如下：','\\n',face_DS_dataframe[0:5],'\\n')\n",
    "# print('测试集标签统计如下：','\\n',face_DS_dataframe.describe(),'\\n')\n",
    "    \n",
    "print(\"有效标签face_DR_num数量为：\", len(face_DS_num))\n",
    "print(\"噪声标签face_DR_wrong数量为：\", len(face_DS_wrong))\n",
    "print(\"噪声样本序号：\", face_DS_wrong,'\\n')\n",
    "\n",
    "# DS_sex_count = face_DS_dataframe['sex'].value_counts()\n",
    "# print(DS_sex_count,'\\n')\n",
    "# DS_age_count = face_DS_dataframe['age'].value_counts()\n",
    "# print(DS_age_count,'\\n')\n",
    "# DS_race_count = face_DS_dataframe['race'].value_counts()\n",
    "# print(DS_race_count,'\\n')\n",
    "# DS_face_count = face_DS_dataframe['face'].value_counts()\n",
    "# print(DS_face_count,'\\n')"
   ]
  },
  {
   "attachments": {},
   "cell_type": "markdown",
   "metadata": {},
   "source": [
    "### test集数据转换为可使用的矩阵"
   ]
  },
  {
   "cell_type": "code",
   "execution_count": 61,
   "metadata": {},
   "outputs": [],
   "source": [
    "faceS_dataframe = pd.DataFrame(data = faceS[:,1:], index = list(map(int,list(faceS[:,0]))))\n",
    "faceS_dataframe.drop(face_DS_wrong, axis=0, inplace=True)\n",
    "# print(faceS_dataframe[0:5])\n",
    "face_S = np.array(faceS_dataframe)"
   ]
  },
  {
   "attachments": {},
   "cell_type": "markdown",
   "metadata": {},
   "source": [
    "### 标签数值化处理"
   ]
  },
  {
   "cell_type": "code",
   "execution_count": 62,
   "metadata": {},
   "outputs": [],
   "source": [
    "# 性别数据及其数值化处理\n",
    "DS_sex = face_DS_dataframe['sex']           # 框架中取出某列，是以这列的series类型返回，索引不算作返回值\n",
    "DS_sex_map = DS_sex.map({'male':1, 'female':0})         # Series数据类型也能当作目标变量\n",
    "# np.save('DS_sex.npy', np.array(DS_sex))\n",
    "# np.save('DS_sex_map.npy', DS_sex_map)\n",
    "\n",
    "### 年龄数据及其数值化处理\n",
    "DS_age = face_DS_dataframe['age']\n",
    "DS_age_map = face_DS_dataframe['age'].map({'child':0, 'teen':1, 'adult':2, 'senior':3})\n",
    "# np.save('DS_age.npy',DS_age)\n",
    "# np.save('DS_age_map.npy', DS_age_map)\n",
    "\n",
    "### 表情数据及其数值化处理\n",
    "# DS_face = face_DS_dataframe['face']\n",
    "# face_DS_face_map = pd.Series(face_DS_dataframe['face'], index = face_DS_num)\n",
    "# DS_face_map = face_DS_face_map.map({'smiling':0, 'serious':1, 'funny':2})\n",
    "# np.save('DS_face.npy',DS_face)\n",
    "# np.save('DS_face_map.npy', DS_face_map)"
   ]
  },
  {
   "attachments": {},
   "cell_type": "markdown",
   "metadata": {},
   "source": [
    "# 将 train集 和 test集 标准化"
   ]
  },
  {
   "cell_type": "code",
   "execution_count": 63,
   "metadata": {},
   "outputs": [],
   "source": [
    "from sklearn.preprocessing import StandardScaler    #数据标准化\n",
    "SD = StandardScaler()\n",
    "SD.fit(face_R)\n",
    "train_std = SD.transform(face_R)\n",
    "test_std = SD.transform(face_S)"
   ]
  },
  {
   "attachments": {},
   "cell_type": "markdown",
   "metadata": {},
   "source": [
    "# 支持向量机"
   ]
  },
  {
   "attachments": {},
   "cell_type": "markdown",
   "metadata": {},
   "source": [
    "### 模型训练"
   ]
  },
  {
   "cell_type": "code",
   "execution_count": 64,
   "metadata": {},
   "outputs": [],
   "source": [
    "from sklearn.svm import SVC  #支持向量机\n",
    "\n",
    "clf_SVM = SVC(kernel='rbf' , C=100 , gamma=1e-3)\n",
    "clf_SVM.fit(train_std, DR_sex_map)\n",
    "predict_svm = clf_SVM.predict(test_std)"
   ]
  },
  {
   "attachments": {},
   "cell_type": "markdown",
   "metadata": {},
   "source": [
    "### 评估验证"
   ]
  },
  {
   "cell_type": "code",
   "execution_count": 65,
   "metadata": {},
   "outputs": [
    {
     "name": "stdout",
     "output_type": "stream",
     "text": [
      "查准率 : 0.7169\n",
      "准确率 : 0.7239\n",
      "召回率 : 0.7239\n",
      "F1分值 : 0.7178\n",
      "              precision    recall  f1-score   support\n",
      "\n",
      "           0       0.64      0.54      0.58       719\n",
      "           1       0.76      0.83      0.79      1277\n",
      "\n",
      "    accuracy                           0.72      1996\n",
      "   macro avg       0.70      0.68      0.69      1996\n",
      "weighted avg       0.72      0.72      0.72      1996\n",
      "\n"
     ]
    }
   ],
   "source": [
    "# 可用矩阵face_R、face_S，标准化后数据train_std、test_std，训练标签值DR_sex_map、DR_age_map，测试集标签值DS_sex_map、DS_age_map，模型预测值predict_svm\n",
    "# 训练数据与训练标签进行模型训练，将测试数据进行预测，再与测试集标签进行比较\n",
    "from sklearn.metrics import precision_score, f1_score, accuracy_score, recall_score, classification_report\n",
    "\n",
    "accuracy = accuracy_score(DS_sex_map, predict_svm)\n",
    "precision = precision_score(DS_sex_map, predict_svm, average='weighted')\n",
    "recall = recall_score(DS_sex_map, predict_svm, average='weighted')\n",
    "f1 = f1_score(DS_sex_map, predict_svm, average='weighted')\n",
    "result_svm = {'precision':precision , 'accuracy':accuracy , 'f1':f1 , 'recall':recall}\n",
    "\n",
    "print(\"查准率 :\", round(result_svm['precision'],4))\n",
    "print(\"准确率 :\", round(result_svm['accuracy'],4))\n",
    "print(\"召回率 :\", round(result_svm['recall'], 4))\n",
    "print(\"F1分值 :\", round(result_svm['f1'],4))\n",
    "\n",
    "# # 查看是否过拟合\n",
    "# print('训练集拟合程度score : {:.4f}'.format(clf_SVM1.score(train_std, DR_sex_map)))\n",
    "# print('测试集拟合程度score : {:.4f}'.format(clf_SVM1.score(test_std, DS_sex_map)))\n",
    "\n",
    "# 分类报告\n",
    "print(classification_report(DS_sex_map, predict_svm))"
   ]
  },
  {
   "attachments": {},
   "cell_type": "markdown",
   "metadata": {},
   "source": [
    "### 网格搜索法调参"
   ]
  },
  {
   "cell_type": "code",
   "execution_count": 66,
   "metadata": {},
   "outputs": [
    {
     "name": "stdout",
     "output_type": "stream",
     "text": [
      "高斯核SVM超参调节的评估标准为 precision\n",
      "最佳参数为: {'C': 100, 'gamma': 0.001, 'kernel': 'rbf'} \n",
      "\n",
      "              precision    recall  f1-score   support\n",
      "\n",
      "           0       0.64      0.54      0.58       719\n",
      "           1       0.76      0.83      0.79      1277\n",
      "\n",
      "    accuracy                           0.72      1996\n",
      "   macro avg       0.70      0.68      0.69      1996\n",
      "weighted avg       0.72      0.72      0.72      1996\n",
      "\n"
     ]
    }
   ],
   "source": [
    "from sklearn.model_selection import GridSearchCV\n",
    "from sklearn.metrics import classification_report\n",
    "\n",
    "# Set the parameters by cross-validation 给带有高斯核的SVM分类器提供参数\n",
    "rbf_para = [{'kernel': ['rbf'], 'C': [1, 10, 100, 1000], 'gamma' : [1e-1, 1e-2, 1e-3, 1e-4]}]\n",
    "rbf_scores = ['precision']\n",
    "\n",
    "for score in rbf_scores:\n",
    "    print(\"高斯核SVM超参调节的评估标准为 %s\" % score)\n",
    "\n",
    "# 训练一个带有最优参数的SVM模型\n",
    "    rbfclf = GridSearchCV(\n",
    "        SVC(), rbf_para, scoring='%s' % score\n",
    "    )\n",
    "    rbfclf.fit(train_std, DR_sex_map)\n",
    "\n",
    "    print(\"最佳参数为:\", rbfclf.best_params_ ,'\\n')\n",
    "\n",
    "    means = rbfclf.cv_results_['mean_test_score']\n",
    "    stds = rbfclf.cv_results_['std_test_score']\n",
    "    # print(\"在搜索范围内，对应参数的分类准确度如下：\")\n",
    "    # for mean, std, params in zip(means, stds, rbfclf.cv_results_['params']):\n",
    "    #     print(\"%0.3f (+/-%0.03f) for %r\" % (mean, std * 2, params))\n",
    "    \n",
    "    rbfclf_sex_pred = rbfclf.predict(test_std)\n",
    "    print(classification_report(DS_sex_map, rbfclf_sex_pred))"
   ]
  },
  {
   "attachments": {},
   "cell_type": "markdown",
   "metadata": {},
   "source": [
    "# K-fold交叉验证"
   ]
  },
  {
   "cell_type": "code",
   "execution_count": 67,
   "metadata": {},
   "outputs": [
    {
     "name": "stdout",
     "output_type": "stream",
     "text": [
      "[0.85053381 0.85515873 0.81730769 0.63084112 0.80079681]\n",
      "0.790927632907987\n"
     ]
    }
   ],
   "source": [
    "from sklearn.model_selection import cross_val_score\n",
    "from sklearn.svm import SVC  #支持向量机\n",
    "\n",
    "all_std = np.vstack((train_std , test_std))\n",
    "\n",
    "# 一行或一列数据转为矩阵默认是一维行矩阵，如需要列合并，转为多行一列的二维矩阵(列向量)\n",
    "all_sex_map = np.hstack((DR_sex_map , DS_sex_map))\n",
    "# all_sex_map = np.vstack((np.array(DR_sex_map).reshape(-1,1),np.array(DS_sex_map).reshape(-1,1)))\n",
    "# # 二维矩阵展平成一维矩阵才能训练\n",
    "# all_sex_map_ravel = np.ravel(all_sex_map)\n",
    "# all_sex_map_fla = all_sex_map.flatten()\n",
    "\n",
    "score_svm = cross_val_score(clf_SVM , all_std , all_sex_map , scoring='precision' , cv=5)\n",
    "print(score_svm)\n",
    "print(score_svm.mean())"
   ]
  },
  {
   "attachments": {},
   "cell_type": "markdown",
   "metadata": {},
   "source": [
    "# PCA特征提取"
   ]
  },
  {
   "attachments": {},
   "cell_type": "markdown",
   "metadata": {},
   "source": [
    "### 图片读取"
   ]
  },
  {
   "cell_type": "code",
   "execution_count": 68,
   "metadata": {},
   "outputs": [],
   "source": [
    "\n",
    "train = []\n",
    "for img in face_DR_num:\n",
    "    with open('rawdata\\\\' + str(img), 'rb') as fid:\n",
    "        I = np.fromfile(fid, dtype=np.uint8)    #用矩阵方式打开\n",
    "        train.append(I.reshape(1, -1).flatten().tolist())\n",
    "\n",
    "test = []\n",
    "for img in face_DS_num:\n",
    "    with open('rawdata\\\\' + str(img), 'rb') as fid:\n",
    "        I = np.fromfile(fid, dtype=np.uint8)    #用矩阵方式打开\n",
    "        test.append(I.reshape(1, -1).flatten().tolist())\n",
    "\n",
    "train_arr = np.array(train)\n",
    "test_arr = np.array(test)"
   ]
  },
  {
   "attachments": {},
   "cell_type": "markdown",
   "metadata": {},
   "source": [
    "### pca降维"
   ]
  },
  {
   "cell_type": "code",
   "execution_count": 69,
   "metadata": {},
   "outputs": [],
   "source": [
    "from sklearn.decomposition import PCA    # 导入PCA模型\n",
    "\n",
    "pca = PCA(n_components = 100)            # 将PCA模型赋给变量pca，并设置模型的参数n_components为100，即将这1024个特征进行线性组合，生成互不相关的100个新特征\n",
    "pca.fit(train_arr)                       # 使用训练集的特征数据拟合PCA模型。\n",
    "\n",
    "train_pca = pca.transform(train_arr)   # 使用拟合好的PCA模型对训练集的特征数据进行降维\n",
    "test_pca = pca.transform(test_arr)     # 使用拟合好的PCA模型对测试集的特征数据进行降维\n"
   ]
  },
  {
   "attachments": {},
   "cell_type": "markdown",
   "metadata": {},
   "source": [
    "### 标准化"
   ]
  },
  {
   "cell_type": "code",
   "execution_count": 70,
   "metadata": {},
   "outputs": [],
   "source": [
    "from sklearn.preprocessing import StandardScaler    #数据标准化\n",
    "SD = StandardScaler()\n",
    "SD.fit(train_pca)\n",
    "train_pca_std = SD.transform(train_pca)\n",
    "test_pca_std = SD.transform(test_pca)"
   ]
  },
  {
   "attachments": {},
   "cell_type": "markdown",
   "metadata": {},
   "source": [
    "# KNN模型分类器"
   ]
  },
  {
   "attachments": {},
   "cell_type": "markdown",
   "metadata": {},
   "source": [
    "### 模型训练"
   ]
  },
  {
   "cell_type": "code",
   "execution_count": 71,
   "metadata": {},
   "outputs": [],
   "source": [
    "from sklearn.neighbors import KNeighborsClassifier\n",
    "\n",
    "knn = KNeighborsClassifier()\n",
    "knn.fit(train_pca_std, DR_age_map)\n",
    "predict_knn = knn.predict(test_pca_std)"
   ]
  },
  {
   "attachments": {},
   "cell_type": "markdown",
   "metadata": {},
   "source": [
    "### knn评估"
   ]
  },
  {
   "cell_type": "code",
   "execution_count": 72,
   "metadata": {},
   "outputs": [
    {
     "name": "stdout",
     "output_type": "stream",
     "text": [
      "查准率 : 0.8056\n",
      "准确率 : 0.7625\n",
      "召回率 : 0.7239\n",
      "F1分值 : 0.7805\n",
      "均方根误差 : 0.4278557114228457\n",
      "              precision    recall  f1-score   support\n",
      "\n",
      "           0       0.15      0.15      0.15        68\n",
      "           1       0.09      0.25      0.14        83\n",
      "           2       0.89      0.85      0.87      1730\n",
      "           3       0.39      0.21      0.27       115\n",
      "\n",
      "    accuracy                           0.76      1996\n",
      "   macro avg       0.38      0.36      0.36      1996\n",
      "weighted avg       0.81      0.76      0.78      1996\n",
      "\n"
     ]
    }
   ],
   "source": [
    "from sklearn.metrics import precision_score, f1_score, accuracy_score, mean_squared_error, classification_report\n",
    "\n",
    "accuracy = accuracy_score(DS_age_map, predict_knn)\n",
    "precision = precision_score(DS_age_map, predict_knn, average='weighted')\n",
    "recall = recall_score(DS_age_map, predict_knn, average='weighted')\n",
    "f1 = f1_score(DS_age_map, predict_knn, average='weighted')\n",
    "result_knn = {'precision':precision , 'accuracy':accuracy , 'f1':f1 , 'recall':recall}\n",
    "\n",
    "print(\"查准率 :\", round(result_knn['precision'],4))\n",
    "print(\"准确率 :\", round(result_knn['accuracy'],4))\n",
    "print(\"召回率 :\", round(result_svm['recall'], 4))\n",
    "print(\"F1分值 :\", round(result_knn['f1'],4))\n",
    "print(\"均方根误差 :\", mean_squared_error(DS_age_map, predict_knn))\n",
    "\n",
    "print(classification_report(DS_age_map, predict_knn))"
   ]
  },
  {
   "attachments": {},
   "cell_type": "markdown",
   "metadata": {},
   "source": [
    "# 图片显示"
   ]
  },
  {
   "cell_type": "code",
   "execution_count": 73,
   "metadata": {},
   "outputs": [
    {
     "data": {
      "image/png": "[encoded data removed]",
      "text/plain": [
       "<Figure size 640x480 with 1 Axes>"
      ]
     },
     "metadata": {},
     "output_type": "display_data"
    },
    {
     "data": {
      "image/png": "[encoded data removed]",
      "text/plain": [
       "<Figure size 640x480 with 1 Axes>"
      ]
     },
     "metadata": {},
     "output_type": "display_data"
    }
   ],
   "source": [
    "# Perform calculations\n",
    "i = np.matmul(eigenfaces.T, faceR[4, 1:100].T) + mean_face\n",
    "\n",
    "# Display the image\n",
    "plt.imshow(i.reshape(128, 128), cmap='gray', vmin=0, vmax=255)    #对标colormap\n",
    "plt.show()                                                        #对标imagesc\n",
    "\n",
    "with open('rawdata/1227', 'rb') as fid:\n",
    "    I = np.fromfile(fid, dtype=np.uint8)    #用矩阵方式打开\n",
    "\n",
    "plt.imshow(I.reshape((128, 128)), cmap='gray', vmin=0, vmax=255)\n",
    "plt.show()"
   ]
  }
 ],
 "metadata": {
  "kernelspec": {
   "display_name": "Python 3 (ipykernel)",
   "language": "python",
   "name": "python3"
  },
  "language_info": {
   "codemirror_mode": {
    "name": "ipython",
    "version": 3
   },
   "file_extension": ".py",
   "mimetype": "text/x-python",
   "name": "python",
   "nbconvert_exporter": "python",
   "pygments_lexer": "ipython3",
   "version": "3.10.7"
  }
 },
 "nbformat": 4,
 "nbformat_minor": 2
}
